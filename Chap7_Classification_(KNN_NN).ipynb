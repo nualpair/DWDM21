{
  "nbformat": 4,
  "nbformat_minor": 0,
  "metadata": {
    "colab": {
      "name": "Chap7_Classification_(KNN_NN).ipynb",
      "provenance": [],
      "authorship_tag": "ABX9TyMXenh/8Bls0iOaO7VMICIh",
      "include_colab_link": true
    },
    "kernelspec": {
      "name": "python3",
      "display_name": "Python 3"
    },
    "language_info": {
      "name": "python"
    }
  },
  "cells": [
    {
      "cell_type": "markdown",
      "metadata": {
        "id": "view-in-github",
        "colab_type": "text"
      },
      "source": [
        "<a href=\"https://colab.research.google.com/github/nualpair/DWDM21/blob/main/Chap7_Classification_(KNN_NN).ipynb\" target=\"_parent\"><img src=\"https://colab.research.google.com/assets/colab-badge.svg\" alt=\"Open In Colab\"/></a>"
      ]
    },
    {
      "cell_type": "markdown",
      "metadata": {
        "id": "QTvhAG9tObRi"
      },
      "source": [
        "#**Load data**"
      ]
    },
    {
      "cell_type": "code",
      "metadata": {
        "id": "1b12HO-KOWmt"
      },
      "source": [
        "from sklearn import datasets\n",
        "\n",
        "digit_data = datasets.load_digits()\n",
        "\n",
        "X = digit_data['data']\n",
        "y = digit_data['target']"
      ],
      "execution_count": 1,
      "outputs": []
    },
    {
      "cell_type": "markdown",
      "metadata": {
        "id": "YfjFt4R_Oepu"
      },
      "source": [
        "#**Split Data**"
      ]
    },
    {
      "cell_type": "code",
      "metadata": {
        "id": "b8QBVDSGOg-w"
      },
      "source": [
        "from sklearn.model_selection import train_test_split\n",
        "\n",
        "# train-test\n",
        "X_train, X_test, y_train, y_test = train_test_split(X, y, test_size=0.5, random_state=6)\n",
        "\n",
        "# train-validation\n",
        "X_train2, X_val, y_train2, y_val = train_test_split(X_train, y_train, test_size=0.3, random_state=6)"
      ],
      "execution_count": 2,
      "outputs": []
    },
    {
      "cell_type": "markdown",
      "metadata": {
        "id": "_rpEekAyOi07"
      },
      "source": [
        "#**Train Model**"
      ]
    },
    {
      "cell_type": "markdown",
      "metadata": {
        "id": "FXiwtaSLOlKT"
      },
      "source": [
        "###**import**"
      ]
    },
    {
      "cell_type": "code",
      "metadata": {
        "id": "91U0oUs3OiNl"
      },
      "source": [
        "from sklearn.neighbors import KNeighborsClassifier\n",
        "from sklearn.metrics import accuracy_score"
      ],
      "execution_count": 3,
      "outputs": []
    },
    {
      "cell_type": "markdown",
      "metadata": {
        "id": "XX2-zhbDOpYM"
      },
      "source": [
        "###**knn1**"
      ]
    },
    {
      "cell_type": "code",
      "metadata": {
        "colab": {
          "base_uri": "https://localhost:8080/"
        },
        "id": "OdUKmccZOpCz",
        "outputId": "7b75611b-1758-43f6-92f0-882e78db092a"
      },
      "source": [
        "# Define\n",
        "neigh1 = KNeighborsClassifier(n_neighbors=3, weights='uniform')\n",
        "# Train\n",
        "neigh1.fit(X_train2,y_train2)\n",
        "# Test\n",
        "knn1_result = neigh1.predict(X_val)\n",
        "accuracy_score(y_val, knn1_result)"
      ],
      "execution_count": 4,
      "outputs": [
        {
          "output_type": "execute_result",
          "data": {
            "text/plain": [
              "0.9703703703703703"
            ]
          },
          "metadata": {},
          "execution_count": 4
        }
      ]
    },
    {
      "cell_type": "markdown",
      "metadata": {
        "id": "PgwcUNvDOyUm"
      },
      "source": [
        "###**knn2**"
      ]
    },
    {
      "cell_type": "code",
      "metadata": {
        "colab": {
          "base_uri": "https://localhost:8080/"
        },
        "id": "Dxbqc7MIO6V5",
        "outputId": "cca7b8ec-99ce-4759-9f04-42e8bdcd0608"
      },
      "source": [
        "# Define\n",
        "neigh2 = KNeighborsClassifier(n_neighbors=10, weights='distance')\n",
        "# Train\n",
        "neigh2.fit(X_train2,y_train2)\n",
        "# Test\n",
        "knn2_result = neigh2.predict(X_val)\n",
        "accuracy_score(y_val, knn2_result)"
      ],
      "execution_count": 5,
      "outputs": [
        {
          "output_type": "execute_result",
          "data": {
            "text/plain": [
              "0.9703703703703703"
            ]
          },
          "metadata": {},
          "execution_count": 5
        }
      ]
    },
    {
      "cell_type": "markdown",
      "metadata": {
        "id": "rKGIAtZ2O0HS"
      },
      "source": [
        "###**knn3**"
      ]
    },
    {
      "cell_type": "code",
      "metadata": {
        "colab": {
          "base_uri": "https://localhost:8080/"
        },
        "id": "G0MzXdnBO9Ep",
        "outputId": "9c311f11-3c04-42b0-95d7-b722b2d17a26"
      },
      "source": [
        "# Define\n",
        "neigh3 = KNeighborsClassifier(n_neighbors=1)\n",
        "# Train\n",
        "neigh3.fit(X_train2,y_train2)\n",
        "# Test\n",
        "knn3_result = neigh3.predict(X_val)\n",
        "accuracy_score(y_val, knn3_result)"
      ],
      "execution_count": 6,
      "outputs": [
        {
          "output_type": "execute_result",
          "data": {
            "text/plain": [
              "0.9777777777777777"
            ]
          },
          "metadata": {},
          "execution_count": 6
        }
      ]
    },
    {
      "cell_type": "markdown",
      "metadata": {
        "id": "9K60SLIUPAVo"
      },
      "source": [
        "#**Retrain & Evaluate**"
      ]
    },
    {
      "cell_type": "code",
      "metadata": {
        "colab": {
          "base_uri": "https://localhost:8080/"
        },
        "id": "671M5C14O-1S",
        "outputId": "35288d22-9046-4cb8-998d-b537b3c509c7"
      },
      "source": [
        "# Define\n",
        "neigh3_final = KNeighborsClassifier(n_neighbors=1)\n",
        "# Train\n",
        "neigh3_final.fit(X_train,y_train)\n",
        "# Test\n",
        "knn3final_result = neigh3_final.predict(X_test)\n",
        "accuracy_score(y_test, knn3final_result)"
      ],
      "execution_count": 7,
      "outputs": [
        {
          "output_type": "execute_result",
          "data": {
            "text/plain": [
              "0.982202447163515"
            ]
          },
          "metadata": {},
          "execution_count": 7
        }
      ]
    },
    {
      "cell_type": "markdown",
      "metadata": {
        "id": "r9JbswoePFLE"
      },
      "source": [
        "##**Neural Network**"
      ]
    },
    {
      "cell_type": "markdown",
      "metadata": {
        "id": "AFmYruP0PIJE"
      },
      "source": [
        "###**Import**"
      ]
    },
    {
      "cell_type": "code",
      "metadata": {
        "id": "Y52y4SqMPDRt"
      },
      "source": [
        "from sklearn.neural_network import MLPClassifier"
      ],
      "execution_count": 8,
      "outputs": []
    },
    {
      "cell_type": "markdown",
      "metadata": {
        "id": "j7ITUru4PL9V"
      },
      "source": [
        "###**Define**"
      ]
    },
    {
      "cell_type": "code",
      "metadata": {
        "id": "9Jtz3wiKPW4A"
      },
      "source": [
        "perceptron1 = MLPClassifier(random_state=6, max_iter=2000, hidden_layer_sizes=1,learning_rate_init=0.005)"
      ],
      "execution_count": 9,
      "outputs": []
    },
    {
      "cell_type": "markdown",
      "metadata": {
        "id": "GFl5z9QdPOFK"
      },
      "source": [
        "###**Train - Test**"
      ]
    },
    {
      "cell_type": "code",
      "metadata": {
        "colab": {
          "base_uri": "https://localhost:8080/"
        },
        "id": "gHXD8GGtPbJr",
        "outputId": "8991875b-4218-4c1a-fb0f-cc801da7f6b6"
      },
      "source": [
        "# Train\n",
        "perceptron1.fit(X_train2,y_train2)\n",
        "# Test\n",
        "ann1_result = perceptron1.predict(X_val)\n",
        "accuracy_score(y_val, ann1_result)"
      ],
      "execution_count": 10,
      "outputs": [
        {
          "output_type": "execute_result",
          "data": {
            "text/plain": [
              "0.2777777777777778"
            ]
          },
          "metadata": {},
          "execution_count": 10
        }
      ]
    },
    {
      "cell_type": "markdown",
      "metadata": {
        "id": "YQNMgSlBPQeV"
      },
      "source": [
        "####**ANN 2**"
      ]
    },
    {
      "cell_type": "code",
      "metadata": {
        "colab": {
          "base_uri": "https://localhost:8080/"
        },
        "id": "ejfF-gSSPdIA",
        "outputId": "09678267-7b0e-4a6e-a695-e510fd71598a"
      },
      "source": [
        "perceptron2 = MLPClassifier(random_state=6, max_iter=2000, hidden_layer_sizes=10,learning_rate_init=0.005)\n",
        "# Train\n",
        "perceptron2.fit(X_train2,y_train2)\n",
        "# Test\n",
        "ann2_result = perceptron2.predict(X_val)\n",
        "accuracy_score(y_val, ann2_result)"
      ],
      "execution_count": 11,
      "outputs": [
        {
          "output_type": "execute_result",
          "data": {
            "text/plain": [
              "0.9185185185185185"
            ]
          },
          "metadata": {},
          "execution_count": 11
        }
      ]
    },
    {
      "cell_type": "markdown",
      "metadata": {
        "id": "kxvTZys-PT9_"
      },
      "source": [
        "####**ANN 3**"
      ]
    },
    {
      "cell_type": "code",
      "metadata": {
        "colab": {
          "base_uri": "https://localhost:8080/"
        },
        "id": "kN6_uCNyPewC",
        "outputId": "2503a9a4-4bc6-4994-d54e-fbfcf22be3fc"
      },
      "source": [
        "perceptron3 = MLPClassifier(random_state=6, max_iter=20000, hidden_layer_sizes=10,learning_rate_init=0.001)\n",
        "# Train\n",
        "perceptron3.fit(X_train2,y_train2)\n",
        "# Test\n",
        "ann3_result = perceptron3.predict(X_val)\n",
        "accuracy_score(y_val, ann3_result)"
      ],
      "execution_count": 12,
      "outputs": [
        {
          "output_type": "execute_result",
          "data": {
            "text/plain": [
              "0.9444444444444444"
            ]
          },
          "metadata": {},
          "execution_count": 12
        }
      ]
    },
    {
      "cell_type": "code",
      "metadata": {
        "id": "ktZxbW9ZPf_-"
      },
      "source": [
        ""
      ],
      "execution_count": null,
      "outputs": []
    }
  ]
}